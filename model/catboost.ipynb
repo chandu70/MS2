{
 "cells": [
  {
   "cell_type": "code",
   "execution_count": 2,
   "metadata": {},
   "outputs": [],
   "source": [
    "# Import necessary Libraries\n",
    "import pandas as pd\n",
    "import numpy as np\n",
    "import seaborn as sb\n",
    "import matplotlib.pyplot as plt\n",
    "import matplotlib.style as style\n",
    "%matplotlib inline\n",
    "\n",
    "from sklearn.preprocessing import LabelEncoder, StandardScaler\n",
    "from sklearn.model_selection import train_test_split\n",
    "from sklearn.svm import SVC\n",
    "from sklearn.metrics import accuracy_score\n",
    "from sklearn.ensemble import RandomForestClassifier\n",
    "from sklearn.metrics import classification_report"
   ]
  },
  {
   "cell_type": "code",
   "execution_count": 3,
   "metadata": {},
   "outputs": [],
   "source": [
    "# Load data into a dataframe\n",
    "data = pd.read_csv('milknew.csv')\n"
   ]
  },
  {
   "cell_type": "code",
   "execution_count": 4,
   "metadata": {},
   "outputs": [
    {
     "data": {
      "text/html": [
       "<div>\n",
       "<style scoped>\n",
       "    .dataframe tbody tr th:only-of-type {\n",
       "        vertical-align: middle;\n",
       "    }\n",
       "\n",
       "    .dataframe tbody tr th {\n",
       "        vertical-align: top;\n",
       "    }\n",
       "\n",
       "    .dataframe thead th {\n",
       "        text-align: right;\n",
       "    }\n",
       "</style>\n",
       "<table border=\"1\" class=\"dataframe\">\n",
       "  <thead>\n",
       "    <tr style=\"text-align: right;\">\n",
       "      <th></th>\n",
       "      <th>pH</th>\n",
       "      <th>Temprature</th>\n",
       "      <th>Taste</th>\n",
       "      <th>Odor</th>\n",
       "      <th>Fat</th>\n",
       "      <th>Turbidity</th>\n",
       "      <th>Colour</th>\n",
       "      <th>Grade</th>\n",
       "    </tr>\n",
       "  </thead>\n",
       "  <tbody>\n",
       "    <tr>\n",
       "      <th>0</th>\n",
       "      <td>6.6</td>\n",
       "      <td>35</td>\n",
       "      <td>1</td>\n",
       "      <td>0</td>\n",
       "      <td>1</td>\n",
       "      <td>0</td>\n",
       "      <td>254</td>\n",
       "      <td>high</td>\n",
       "    </tr>\n",
       "    <tr>\n",
       "      <th>1</th>\n",
       "      <td>6.6</td>\n",
       "      <td>36</td>\n",
       "      <td>0</td>\n",
       "      <td>1</td>\n",
       "      <td>0</td>\n",
       "      <td>1</td>\n",
       "      <td>253</td>\n",
       "      <td>high</td>\n",
       "    </tr>\n",
       "    <tr>\n",
       "      <th>2</th>\n",
       "      <td>8.5</td>\n",
       "      <td>70</td>\n",
       "      <td>1</td>\n",
       "      <td>1</td>\n",
       "      <td>1</td>\n",
       "      <td>1</td>\n",
       "      <td>246</td>\n",
       "      <td>low</td>\n",
       "    </tr>\n",
       "    <tr>\n",
       "      <th>3</th>\n",
       "      <td>9.5</td>\n",
       "      <td>34</td>\n",
       "      <td>1</td>\n",
       "      <td>1</td>\n",
       "      <td>0</td>\n",
       "      <td>1</td>\n",
       "      <td>255</td>\n",
       "      <td>low</td>\n",
       "    </tr>\n",
       "    <tr>\n",
       "      <th>4</th>\n",
       "      <td>6.6</td>\n",
       "      <td>37</td>\n",
       "      <td>0</td>\n",
       "      <td>0</td>\n",
       "      <td>0</td>\n",
       "      <td>0</td>\n",
       "      <td>255</td>\n",
       "      <td>medium</td>\n",
       "    </tr>\n",
       "  </tbody>\n",
       "</table>\n",
       "</div>"
      ],
      "text/plain": [
       "    pH  Temprature  Taste  Odor  Fat   Turbidity  Colour   Grade\n",
       "0  6.6          35      1     0     1          0     254    high\n",
       "1  6.6          36      0     1     0          1     253    high\n",
       "2  8.5          70      1     1     1          1     246     low\n",
       "3  9.5          34      1     1     0          1     255     low\n",
       "4  6.6          37      0     0     0          0     255  medium"
      ]
     },
     "execution_count": 4,
     "metadata": {},
     "output_type": "execute_result"
    }
   ],
   "source": [
    "# Check the top 5 rows\n",
    "data.head()"
   ]
  },
  {
   "cell_type": "code",
   "execution_count": 5,
   "metadata": {},
   "outputs": [
    {
     "name": "stdout",
     "output_type": "stream",
     "text": [
      "Requirement already satisfied: catboost in c:\\users\\divya sri\\appdata\\local\\programs\\python\\python39\\lib\\site-packages (1.2.3)\n",
      "Requirement already satisfied: graphviz in c:\\users\\divya sri\\appdata\\local\\programs\\python\\python39\\lib\\site-packages (from catboost) (0.20.1)\n",
      "Requirement already satisfied: matplotlib in c:\\users\\divya sri\\appdata\\local\\programs\\python\\python39\\lib\\site-packages (from catboost) (3.8.3)\n",
      "Requirement already satisfied: numpy>=1.16.0 in c:\\users\\divya sri\\appdata\\local\\programs\\python\\python39\\lib\\site-packages (from catboost) (1.26.4)\n",
      "Requirement already satisfied: pandas>=0.24 in c:\\users\\divya sri\\appdata\\local\\programs\\python\\python39\\lib\\site-packages (from catboost) (1.4.3)\n",
      "Requirement already satisfied: scipy in c:\\users\\divya sri\\appdata\\local\\programs\\python\\python39\\lib\\site-packages (from catboost) (1.12.0)\n",
      "Requirement already satisfied: plotly in c:\\users\\divya sri\\appdata\\local\\programs\\python\\python39\\lib\\site-packages (from catboost) (5.10.0)\n",
      "Requirement already satisfied: six in c:\\users\\divya sri\\appdata\\local\\programs\\python\\python39\\lib\\site-packages (from catboost) (1.16.0)\n",
      "Requirement already satisfied: python-dateutil>=2.8.1 in c:\\users\\divya sri\\appdata\\local\\programs\\python\\python39\\lib\\site-packages (from pandas>=0.24->catboost) (2.8.2)\n",
      "Requirement already satisfied: pytz>=2020.1 in c:\\users\\divya sri\\appdata\\local\\programs\\python\\python39\\lib\\site-packages (from pandas>=0.24->catboost) (2022.2.1)\n",
      "Requirement already satisfied: contourpy>=1.0.1 in c:\\users\\divya sri\\appdata\\local\\programs\\python\\python39\\lib\\site-packages (from matplotlib->catboost) (1.2.0)\n",
      "Requirement already satisfied: cycler>=0.10 in c:\\users\\divya sri\\appdata\\local\\programs\\python\\python39\\lib\\site-packages (from matplotlib->catboost) (0.12.1)\n",
      "Requirement already satisfied: fonttools>=4.22.0 in c:\\users\\divya sri\\appdata\\local\\programs\\python\\python39\\lib\\site-packages (from matplotlib->catboost) (4.49.0)\n",
      "Requirement already satisfied: kiwisolver>=1.3.1 in c:\\users\\divya sri\\appdata\\local\\programs\\python\\python39\\lib\\site-packages (from matplotlib->catboost) (1.4.5)\n",
      "Requirement already satisfied: packaging>=20.0 in c:\\users\\divya sri\\appdata\\local\\programs\\python\\python39\\lib\\site-packages (from matplotlib->catboost) (21.3)\n",
      "Requirement already satisfied: pillow>=8 in c:\\users\\divya sri\\appdata\\local\\programs\\python\\python39\\lib\\site-packages (from matplotlib->catboost) (9.2.0)\n",
      "Requirement already satisfied: pyparsing>=2.3.1 in c:\\users\\divya sri\\appdata\\local\\programs\\python\\python39\\lib\\site-packages (from matplotlib->catboost) (3.0.9)\n",
      "Requirement already satisfied: importlib-resources>=3.2.0 in c:\\users\\divya sri\\appdata\\local\\programs\\python\\python39\\lib\\site-packages (from matplotlib->catboost) (6.1.2)\n",
      "Requirement already satisfied: tenacity>=6.2.0 in c:\\users\\divya sri\\appdata\\local\\programs\\python\\python39\\lib\\site-packages (from plotly->catboost) (8.0.1)\n",
      "Requirement already satisfied: zipp>=3.1.0 in c:\\users\\divya sri\\appdata\\local\\programs\\python\\python39\\lib\\site-packages (from importlib-resources>=3.2.0->matplotlib->catboost) (3.8.1)\n",
      "Note: you may need to restart the kernel to use updated packages.\n"
     ]
    }
   ],
   "source": [
    "pip install catboost\n"
   ]
  },
  {
   "cell_type": "code",
   "execution_count": 6,
   "metadata": {},
   "outputs": [
    {
     "name": "stdout",
     "output_type": "stream",
     "text": [
      "Accuracy of CatBoost classifier: 99.69%\n",
      "------------------------------------------------------------------\n",
      "              precision    recall  f1-score   support\n",
      "\n",
      "        high       0.99      1.00      0.99        76\n",
      "         low       1.00      0.99      1.00       115\n",
      "      medium       1.00      1.00      1.00       127\n",
      "\n",
      "    accuracy                           1.00       318\n",
      "   macro avg       1.00      1.00      1.00       318\n",
      "weighted avg       1.00      1.00      1.00       318\n",
      "\n"
     ]
    }
   ],
   "source": [
    "# Import necessary libraries\n",
    "from catboost import CatBoostClassifier\n",
    "'''\n",
    "# Load data into a dataframe\n",
    "data = pd.read_csv('/content/milknew.csv')\n",
    "'''\n",
    "# Create a copy of the original dataset\n",
    "data_cp = data.copy()\n",
    "\n",
    "# Rename columns\n",
    "data_cp = data_cp.rename(columns={'Temprature': 'Temperature'})\n",
    "\n",
    "# Remove any empty spaces in header col\n",
    "data_cp.columns = data_cp.columns.str.replace(' ', '')\n",
    "\n",
    "# Split the dataset into features(to use to predict) and target variable(to predict)\n",
    "X = data_cp.drop(['Grade'], axis=1)\n",
    "y = data_cp['Grade']\n",
    "#print(X)\n",
    "\n",
    "# Scale numerical variables\n",
    "scaler = StandardScaler()\n",
    "\n",
    "# Transform col-values to have zero mean and variance\n",
    "X[['pH', 'Temperature','Taste','Odor','Fat', 'Turbidity','Colour']] = scaler.fit_transform(X[['pH', 'Temperature','Taste','Odor', 'Fat', 'Turbidity','Colour']])\n",
    "#print(X)\n",
    "\n",
    "# Split the data into training and testing sets\n",
    "X_train, X_test, y_train, y_test = train_test_split(X, y, test_size=0.3, random_state=42)\n",
    "#print(X_train)\n",
    "# Perform CatBoost classification\n",
    "catboost_model = CatBoostClassifier(random_state=42, verbose=0)\n",
    "catboost_model.fit(X_train, y_train)\n",
    "\n",
    "# Make predictions on the test set\n",
    "y_pred_catboost = catboost_model.predict(X_test)\n",
    "#print(y_pred_catboost)\n",
    "# Evaluate the model\n",
    "accuracy_catboost = accuracy_score(y_test, y_pred_catboost)\n",
    "print(\"Accuracy of CatBoost classifier: {:.2f}%\".format(accuracy_catboost * 100))\n",
    "print('------------------------------------------------------------------')\n",
    "print(classification_report(y_test, y_pred_catboost))\n"
   ]
  },
  {
   "cell_type": "code",
   "execution_count": 9,
   "metadata": {},
   "outputs": [
    {
     "name": "stdout",
     "output_type": "stream",
     "text": [
      "Sample Input:\n",
      "         pH  Temperature     Taste      Odor       Fat  Turbidity    Colour\n",
      "0 -0.450404     -2.10298 -1.098294 -0.872962  0.699608  -0.982217 -1.356536\n",
      "\n",
      "Predicted Grade:\n",
      "['medium']\n"
     ]
    }
   ],
   "source": [
    "# Take a sample input for demonstration\n",
    "sample_input = pd.DataFrame({\n",
    "    'pH': [6],\n",
    "    'Temperature': [23],\n",
    "    'Taste': [0],\n",
    "    'Odor': [0],\n",
    "    'Fat': [1],\n",
    "    'Turbidity': [0],\n",
    "    'Colour': [246]\n",
    "})\n",
    "\n",
    "# Scale numerical variables using the previously defined scaler\n",
    "sample_input[['pH', 'Temperature', 'Taste','Odor','Fat', 'Turbidity','Colour']] = scaler.transform(sample_input[['pH', 'Temperature','Taste','Odor', 'Fat', 'Turbidity','Colour']])\n",
    "\n",
    "# Perform prediction using the RandomForest model\n",
    "sample_prediction = catboost_model.predict(sample_input)\n",
    "\n",
    "# Decode the predicted values\n",
    "#sample_prediction = le.inverse_transform(sample_prediction)\n",
    "\n",
    "# Display the sample input and predicted output\n",
    "print(\"Sample Input:\")\n",
    "print(sample_input)\n",
    "print('\\nPredicted Grade:')\n",
    "print(sample_prediction[0])\n"
   ]
  },
  {
   "cell_type": "code",
   "execution_count": 7,
   "metadata": {},
   "outputs": [
    {
     "data": {
      "text/plain": [
       "['catboost_model.pkl']"
      ]
     },
     "execution_count": 7,
     "metadata": {},
     "output_type": "execute_result"
    }
   ],
   "source": [
    "import joblib\n",
    "from catboost import CatBoostClassifier\n",
    "\n",
    "# Assuming you have already loaded and preprocessed your data and assigned it to X_train and y_train\n",
    "\n",
    "# Train the CatBoost model\n",
    "#catboost_model = CatBoostClassifier(random_state=42, verbose=0)\n",
    "#catboost_model.fit(X_train, y_train)\n",
    "\n",
    "# Save the trained model\n",
    "joblib.dump(catboost_model, 'catboost_model.pkl')\n"
   ]
  },
  {
   "cell_type": "code",
   "execution_count": 8,
   "metadata": {},
   "outputs": [
    {
     "data": {
      "text/plain": [
       "['scaler1.pkl']"
      ]
     },
     "execution_count": 8,
     "metadata": {},
     "output_type": "execute_result"
    }
   ],
   "source": [
    "# Save the trained model\n",
    "#joblib.dump(catboost_model, 'catboost_model.pkl')\n",
    "\n",
    "# Save the scaler\n",
    "joblib.dump(scaler, 'scaler1.pkl')\n"
   ]
  }
 ],
 "metadata": {
  "kernelspec": {
   "display_name": "Python 3",
   "language": "python",
   "name": "python3"
  },
  "language_info": {
   "codemirror_mode": {
    "name": "ipython",
    "version": 3
   },
   "file_extension": ".py",
   "mimetype": "text/x-python",
   "name": "python",
   "nbconvert_exporter": "python",
   "pygments_lexer": "ipython3",
   "version": "3.9.5"
  }
 },
 "nbformat": 4,
 "nbformat_minor": 2
}
